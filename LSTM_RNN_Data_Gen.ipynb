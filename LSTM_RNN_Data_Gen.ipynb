{
  "cells": [
    {
      "cell_type": "markdown",
      "metadata": {
        "id": "view-in-github",
        "colab_type": "text"
      },
      "source": [
        "<a href=\"https://colab.research.google.com/github/mmalam3/LSTM-RNN-Optimal-Data-Sequence-Generation/blob/main/LSTM_RNN_Data_Gen.ipynb\" target=\"_parent\"><img src=\"https://colab.research.google.com/assets/colab-badge.svg\" alt=\"Open In Colab\"/></a>"
      ]
    },
    {
      "cell_type": "markdown",
      "source": [
        "## Importing neccessary libraries and packages"
      ],
      "metadata": {
        "id": "iPfJ1NYfCHiO"
      },
      "id": "iPfJ1NYfCHiO"
    },
    {
      "cell_type": "code",
      "source": [
        "# import tensorflow\n",
        "import tensorflow as tf\n",
        "\n",
        "# import relevance python ML libraries\n",
        "import pandas as pd\n",
        "import numpy as np\n",
        "import matplotlib.pyplot as plt\n",
        "\n",
        "# import other python libraries\n",
        "import os\n",
        "import glob"
      ],
      "metadata": {
        "id": "UR1CT-7hCEMw"
      },
      "id": "UR1CT-7hCEMw",
      "execution_count": 11,
      "outputs": []
    },
    {
      "cell_type": "markdown",
      "source": [
        "## Accessing data sequences\n",
        "\n",
        "First, let's start with the definition of a method `read_data(`) to access all our input data sequences. Each of our input data sequence contains categorical data preprocessed earlier. These sequences were extracted from the PEEVES dataset: https://ora.ox.ac.uk/objects/uuid:75726ff7-fee1-420d-8a17-de9572324c7d. We are particularly interested in the data sequences presented in the `event_value` column because this column records the actual occurrences of different IoT events in a smart home captured in the dataset.   "
      ],
      "metadata": {
        "id": "YYFTwydqEEHR"
      },
      "id": "YYFTwydqEEHR"
    },
    {
      "cell_type": "code",
      "source": [
        "# ********* Method to access data files ***********\n",
        "# *************************************************\n",
        "\n",
        "# Read the dataset\n",
        "def read_data(file_path):\n",
        "    dfs = pd.DataFrame()\n",
        "\n",
        "    # Retrieve all CSV file from 'sample_data' folder\n",
        "    file_names = glob.glob(file_path + '*.csv')\n",
        "\n",
        "    for file_name in file_names:\n",
        "        df = pd.read_csv(file_name)\n",
        "        dfs = pd.concat([dfs, df], ignore_index=True)\n",
        "        del df\n",
        "\n",
        "    # Remove the '_' (uderscore) with from 'event_value' column\n",
        "    dfs['event_value'] = dfs['event_value'].str.replace('_', '')\n",
        "\n",
        "    return dfs"
      ],
      "metadata": {
        "id": "ncTmhD8BCtv6"
      },
      "id": "ncTmhD8BCtv6",
      "execution_count": 12,
      "outputs": []
    },
    {
      "cell_type": "markdown",
      "source": [
        "## Generating corpus\n",
        "Now, we define the method `generate_corpus()` to create a corpus containing all the input sequences ."
      ],
      "metadata": {
        "id": "0q2V3Xq_HQmo"
      },
      "id": "0q2V3Xq_HQmo"
    },
    {
      "cell_type": "code",
      "source": [
        "# ********** Method to generate corpus from the dataframe **************\n",
        "# **********************************************************************\n",
        "\n",
        "def generate_corpus(df, sentence_size):\n",
        "    # Data Preprocessing\n",
        "    corpus_ = df['event_value'].values.flatten()\n",
        "\n",
        "    corpus = []\n",
        "    sentence_size = sentence_size\n",
        "    count = 0\n",
        "    temp_sentence = ''\n",
        "\n",
        "    for item in corpus_:\n",
        "        count += 1\n",
        "        if count < sentence_size:\n",
        "            temp_sentence += item + ' '\n",
        "        else:\n",
        "            temp_sentence += item\n",
        "            corpus.append(temp_sentence)\n",
        "            temp_sentence = ''\n",
        "            count = 0\n",
        "\n",
        "    return corpus"
      ],
      "metadata": {
        "id": "Nrgi3CITDA9M"
      },
      "id": "Nrgi3CITDA9M",
      "execution_count": 13,
      "outputs": []
    },
    {
      "cell_type": "markdown",
      "source": [
        "## Preparing train and validation sets\n",
        "\n",
        "We split the corpus into two datasets: *train* set and *validation* set. We use the `train_val_split()` method to perform the task given a user input `training_split` where the user defines what percentange of data from the corpus is to used as training data."
      ],
      "metadata": {
        "id": "BkKF1n9SH8hV"
      },
      "id": "BkKF1n9SH8hV"
    },
    {
      "cell_type": "code",
      "source": [
        "# ************* Method to split train and validation sets *********************\n",
        "# *****************************************************************************\n",
        "\n",
        "def train_val_split(sentences, training_split):\n",
        "    # compute the number (an integer) of sentences that will be used for training\n",
        "    train_size = int(len(sentences) * training_split)\n",
        "\n",
        "    # split the sentences and labels into train/validation splits\n",
        "    train_sentences = sentences[0:train_size]\n",
        "    validation_sentences = sentences[train_size:]\n",
        "\n",
        "    return train_sentences, validation_sentences\n"
      ],
      "metadata": {
        "id": "O9oFg0WhDEOj"
      },
      "id": "O9oFg0WhDEOj",
      "execution_count": 14,
      "outputs": []
    },
    {
      "cell_type": "markdown",
      "source": [
        "## Creating and fitting a tokenizer\n",
        "\n",
        "We create a `tokenizer` using the `tf.keras.preprocessing.text.Tokenizer(`) method and fit the tokenizer on the training data using `fit_on_texts()` method."
      ],
      "metadata": {
        "id": "on6mmBzSJkxs"
      },
      "id": "on6mmBzSJkxs"
    },
    {
      "cell_type": "code",
      "source": [
        "# ********** Method to return a tokenizer fitted into train_sentences ***************\n",
        "# ***********************************************************************************\n",
        "\n",
        "def fit_tokenizer(train_sentences):\n",
        "    # Create tokenizer\n",
        "    tokenizer = tf.keras.preprocessing.text.Tokenizer()\n",
        "    tokenizer.fit_on_texts(train_sentences)\n",
        "\n",
        "    # Define the total words. Add 1 for the index `0` which is just the padding token.\n",
        "    total_words = len(tokenizer.word_index) + 1\n",
        "\n",
        "    return tokenizer, total_words"
      ],
      "metadata": {
        "id": "LreeJ1thDIcj"
      },
      "id": "LreeJ1thDIcj",
      "execution_count": 15,
      "outputs": []
    },
    {
      "cell_type": "markdown",
      "source": [
        "## Vectorizing, padding, and creating n_grams\n",
        "\n",
        "In the  `data_preprocessing()` method, we perform the following tasks:\n",
        "\n",
        "*   Vectorizing text corpus using the `texts_to_sequences(`) method of TensorFlow\n",
        "*   Generating subsequences form the sentences i.e., creating `n_grams`, and\n",
        "*   Trasnforming all sentences into same-length NumPy array using the `tf.keras.preprocessing.sequence.pad_sequences` method"
      ],
      "metadata": {
        "id": "dWEqnTwgKeFX"
      },
      "id": "dWEqnTwgKeFX"
    },
    {
      "cell_type": "code",
      "source": [
        "# ******* Method to return padded sequences and labels ************************\n",
        "# *****************************************************************************\n",
        "def data_preprocessing(sentences, tokenizer, total_words):\n",
        "    # Initialize the sequences list\n",
        "    input_sequences = []\n",
        "\n",
        "    # Loop over the line several times to generate the subphrases\n",
        "    for line in sentences:\n",
        "        # Tokenize the current line\n",
        "        token_list = tokenizer.texts_to_sequences([line])[0]\n",
        "\n",
        "        for i in range(1, len(token_list)):\n",
        "            # Generate the subphrase\n",
        "            n_gram_sequence = token_list[:i + 1]\n",
        "\n",
        "            # Append the subphrase to the sequences list\n",
        "            input_sequences.append(n_gram_sequence)\n",
        "\n",
        "    # Get the length of the longest line\n",
        "    max_sequence_len = max([len(x) for x in input_sequences])\n",
        "\n",
        "    padded_sequenes = tf.keras.preprocessing.sequence.pad_sequences(input_sequences, maxlen=max_sequence_len, padding='pre')\n",
        "    # Pad all sequences\n",
        "    input_sequences = np.array(padded_sequenes)\n",
        "\n",
        "    # Create inputs and label by splitting the last token in the subphrases\n",
        "    xs, labels = input_sequences[:, :-1], input_sequences[:, -1]\n",
        "\n",
        "    # Convert the label into one-hot arrays\n",
        "    ys = tf.keras.utils.to_categorical(labels, num_classes=total_words)\n",
        "\n",
        "    return xs, ys, max_sequence_len"
      ],
      "metadata": {
        "id": "SddrNtzhDMA8"
      },
      "id": "SddrNtzhDMA8",
      "execution_count": 16,
      "outputs": []
    },
    {
      "cell_type": "markdown",
      "source": [
        "## Building the LSTM neural network\n",
        "\n",
        "Now, we build and compile an LSTM-based recurrent neural network (RNN) with `Adam` as the optimizer and `categorical_crossentropy` as the loss function."
      ],
      "metadata": {
        "id": "nchaliRLMzsx"
      },
      "id": "nchaliRLMzsx"
    },
    {
      "cell_type": "code",
      "source": [
        "# ************** Method to build the neural network model *********************\n",
        "# *****************************************************************************\n",
        "\n",
        "# Build the model\n",
        "def build_model(max_sequence_len, total_words):\n",
        "    model = tf.keras.models.Sequential([\n",
        "        tf.keras.layers.Embedding(total_words, 128, input_length=max_sequence_len - 1),\n",
        "        tf.keras.layers.Bidirectional(tf.keras.layers.LSTM(64, return_sequences=True)),\n",
        "        tf.keras.layers.Bidirectional(tf.keras.layers.LSTM(32)),\n",
        "        tf.keras.layers.Dense(total_words, activation='softmax')\n",
        "    ])\n",
        "\n",
        "    # Use categorical crossentropy because this is a multi-class problem\n",
        "    model.compile(loss='categorical_crossentropy', optimizer='adam', metrics=['accuracy'])\n",
        "\n",
        "    # Print the model summary\n",
        "    print('\\nModel Summary:')\n",
        "    model.summary()\n",
        "\n",
        "    return model"
      ],
      "metadata": {
        "id": "EQVJBRYcDQF8"
      },
      "id": "EQVJBRYcDQF8",
      "execution_count": 17,
      "outputs": []
    },
    {
      "cell_type": "markdown",
      "source": [
        "## Generating optimal data sequences\n",
        "\n",
        "Once the RNN is trained, we use the following `predict_text()` method to generate an optimal sequence of unique nodes given a user-defined *seed*. This *seed* is the first node in the predicted data sequence."
      ],
      "metadata": {
        "id": "Ncl5JWrbNbHk"
      },
      "id": "Ncl5JWrbNbHk"
    },
    {
      "cell_type": "code",
      "execution_count": 18,
      "id": "486ba4d9",
      "metadata": {
        "id": "486ba4d9"
      },
      "outputs": [],
      "source": [
        "\n",
        "# ******************** Method to predict next words ***************************\n",
        "# *****************************************************************************\n",
        "\n",
        "def predict_text(seed, tokenizer, model, max_sequence_len, next_words):\n",
        "    # Define seed text\n",
        "    seed_text = seed\n",
        "    prediction = [seed_text]\n",
        "\n",
        "    # Define total words to predict\n",
        "    next_words = next_words\n",
        "\n",
        "    # Loop until desired length is reached\n",
        "    for _ in range(next_words):\n",
        "\n",
        "        # Convert the seed text to a token sequence\n",
        "        token_list = tokenizer.texts_to_sequences([seed_text])[0]\n",
        "\n",
        "        # Pad the sequence\n",
        "        token_list = tf.keras.preprocessing.sequence.pad_sequences([token_list], maxlen=max_sequence_len - 1, padding='pre')\n",
        "\n",
        "        # Feed to the model and get the probabilities for each index\n",
        "        probabilities = model.predict(token_list)\n",
        "\n",
        "        # Get the index with the highest probability\n",
        "        predicted = np.argmax(probabilities, axis=-1)[0]\n",
        "\n",
        "        # Ignore if index is 0 because that is just the padding.\n",
        "        if predicted != 0:\n",
        "            # Look up the word associated with the index.\n",
        "            output_word = tokenizer.index_word[predicted]\n",
        "\n",
        "            # Combine with the seed text\n",
        "            seed_text += \" \" + output_word\n",
        "            prediction.append(output_word)\n",
        "\n",
        "    prediction_unique = []\n",
        "    for item in prediction:\n",
        "        if item not in prediction_unique:\n",
        "            # append only the unique words\n",
        "            prediction_unique.append(item)\n",
        "\n",
        "    return prediction, prediction_unique"
      ]
    },
    {
      "cell_type": "markdown",
      "source": [
        "## Defining callbacks\n",
        "\n",
        "We define two callbacks:\n",
        "\n",
        "1.   `ModelCheckpoint()` to save the model's weights every 50 timsteps at each epoch\n",
        "2.   `myCallback()` to stop training the model once the model accuracy reaches beyond 99.97%\n",
        "\n"
      ],
      "metadata": {
        "id": "ZRvGsPjI1OaI"
      },
      "id": "ZRvGsPjI1OaI"
    },
    {
      "cell_type": "code",
      "source": [
        "# checkpoint path to save model weights during training\n",
        "checkpoint_path = \"models/cp-{epoch:04d}.ckpt\"\n",
        "checkpoint_dir = os.path.dirname(checkpoint_path)\n",
        "\n",
        "# Create a callback that saves the model's weights every 50 epochs\n",
        "cp_callback = tf.keras.callbacks.ModelCheckpoint(filepath=checkpoint_path,\n",
        "                                                 verbose=1,\n",
        "                                                 save_weights_only=True,\n",
        "                                                 save_freq=50)\n",
        "\n",
        "# Create a callback that stops training the model once a certain accuracy threshold is reached\n",
        "class myCallback(tf.keras.callbacks.Callback):\n",
        "    def on_epoch_end(self, epoch, logs={}):\n",
        "        if(logs.get('accuracy') > 0.997):\n",
        "          print(\"\\nReached 99.70% accuracy, so stopping training!!\")\n",
        "          self.model.stop_training = True"
      ],
      "metadata": {
        "id": "ies7AA-e1OxB"
      },
      "id": "ies7AA-e1OxB",
      "execution_count": 44,
      "outputs": []
    },
    {
      "cell_type": "markdown",
      "source": [
        "## Model training\n",
        "\n",
        "Finally, we invoke all the previously defined tasks and train the RNN using a `fit()` method. We *can* also set the user-defined hyperparamter here."
      ],
      "metadata": {
        "id": "Ox0pz2FoORSZ"
      },
      "id": "Ox0pz2FoORSZ"
    },
    {
      "cell_type": "code",
      "source": [
        "# Read the data\n",
        "file_path = os.path.join(os.getcwd(), 'data/')\n",
        "df = read_data(file_path)\n",
        "\n",
        "# generate the corpus\n",
        "sentence_size = 227\n",
        "sentences = generate_corpus(df, sentence_size)\n",
        "\n",
        "# set the split size and split the corpus\n",
        "training_split = 0.8\n",
        "train_sentences, validation_sentences = train_val_split(sentences, training_split)\n",
        "\n",
        "# get a fitted tokenizer and the tota number of words in the vocab\n",
        "tokenizer, total_words = fit_tokenizer(train_sentences)\n",
        "\n",
        "# get processed and padded sequences for both train_sentences and validation_sentences\n",
        "X_train, y_train, max_sequence_len = data_preprocessing(train_sentences, tokenizer, total_words)\n",
        "X_valid, y_valid, max_sequence_len = data_preprocessing(validation_sentences, tokenizer, total_words)\n",
        "\n",
        "# get the neural network model\n",
        "model = build_model(max_sequence_len, total_words)\n",
        "\n",
        "# set hyperparameters\n",
        "epochs = 50\n",
        "next_words = 100\n",
        "seed = 'cam_on'\n",
        "\n",
        "# Train the model\n",
        "print('\\nTraining Time!')\n",
        "history = model.fit(X_train,\n",
        "                    y_train,\n",
        "                    epochs=epochs,\n",
        "                    validation_data=(X_valid, y_valid),\n",
        "                    callbacks=[cp_callback, myCallback()])"
      ],
      "metadata": {
        "colab": {
          "base_uri": "https://localhost:8080/"
        },
        "id": "lLMb_KA5DUpV",
        "outputId": "75b02263-d33b-4e39-c173-576d27146867"
      },
      "id": "lLMb_KA5DUpV",
      "execution_count": 45,
      "outputs": [
        {
          "output_type": "stream",
          "name": "stdout",
          "text": [
            "\n",
            "Model Summary:\n",
            "Model: \"sequential_7\"\n",
            "_________________________________________________________________\n",
            " Layer (type)                Output Shape              Param #   \n",
            "=================================================================\n",
            " embedding_7 (Embedding)     (None, 226, 128)          2944      \n",
            "                                                                 \n",
            " bidirectional_14 (Bidirect  (None, 226, 128)          98816     \n",
            " ional)                                                          \n",
            "                                                                 \n",
            " bidirectional_15 (Bidirect  (None, 64)                41216     \n",
            " ional)                                                          \n",
            "                                                                 \n",
            " dense_7 (Dense)             (None, 23)                1495      \n",
            "                                                                 \n",
            "=================================================================\n",
            "Total params: 144471 (564.34 KB)\n",
            "Trainable params: 144471 (564.34 KB)\n",
            "Non-trainable params: 0 (0.00 Byte)\n",
            "_________________________________________________________________\n",
            "\n",
            "Training Time!\n",
            "Epoch 1/50\n",
            " 49/184 [======>.......................] - ETA: 1:08 - loss: 2.7346 - accuracy: 0.1913\n",
            "Epoch 1: saving model to models/cp-0001.ckpt\n",
            " 99/184 [===============>..............] - ETA: 45s - loss: 2.5734 - accuracy: 0.2247\n",
            "Epoch 1: saving model to models/cp-0001.ckpt\n",
            "149/184 [=======================>......] - ETA: 18s - loss: 2.4475 - accuracy: 0.2584\n",
            "Epoch 1: saving model to models/cp-0001.ckpt\n",
            "184/184 [==============================] - 118s 596ms/step - loss: 2.3545 - accuracy: 0.2970 - val_loss: 1.9856 - val_accuracy: 0.4387\n",
            "Epoch 2/50\n",
            " 15/184 [=>............................] - ETA: 1:20 - loss: 1.9202 - accuracy: 0.4354\n",
            "Epoch 2: saving model to models/cp-0002.ckpt\n",
            " 65/184 [=========>....................] - ETA: 1:28 - loss: 1.8858 - accuracy: 0.4548\n",
            "Epoch 2: saving model to models/cp-0002.ckpt\n",
            "115/184 [=================>............] - ETA: 45s - loss: 1.8168 - accuracy: 0.4660\n",
            "Epoch 2: saving model to models/cp-0002.ckpt\n",
            "165/184 [=========================>....] - ETA: 11s - loss: 1.7613 - accuracy: 0.4850\n",
            "Epoch 2: saving model to models/cp-0002.ckpt\n",
            "184/184 [==============================] - 123s 670ms/step - loss: 1.7312 - accuracy: 0.4934 - val_loss: 1.5458 - val_accuracy: 0.5177\n",
            "Epoch 3/50\n",
            " 31/184 [====>.........................] - ETA: 1:24 - loss: 1.4967 - accuracy: 0.5585\n",
            "Epoch 3: saving model to models/cp-0003.ckpt\n",
            " 81/184 [============>.................] - ETA: 56s - loss: 1.4489 - accuracy: 0.5760\n",
            "Epoch 3: saving model to models/cp-0003.ckpt\n",
            "131/184 [====================>.........] - ETA: 29s - loss: 1.4345 - accuracy: 0.5747\n",
            "Epoch 3: saving model to models/cp-0003.ckpt\n",
            "181/184 [============================>.] - ETA: 1s - loss: 1.4137 - accuracy: 0.5746\n",
            "Epoch 3: saving model to models/cp-0003.ckpt\n",
            "184/184 [==============================] - 113s 610ms/step - loss: 1.4107 - accuracy: 0.5751 - val_loss: 1.3003 - val_accuracy: 0.6011\n",
            "Epoch 4/50\n",
            " 47/184 [======>.......................] - ETA: 1:16 - loss: 1.2303 - accuracy: 0.6403\n",
            "Epoch 4: saving model to models/cp-0004.ckpt\n",
            " 97/184 [==============>...............] - ETA: 48s - loss: 1.2097 - accuracy: 0.6350\n",
            "Epoch 4: saving model to models/cp-0004.ckpt\n",
            "147/184 [======================>.......] - ETA: 20s - loss: 1.1542 - accuracy: 0.6507\n",
            "Epoch 4: saving model to models/cp-0004.ckpt\n",
            "184/184 [==============================] - 112s 611ms/step - loss: 1.1291 - accuracy: 0.6542 - val_loss: 1.0331 - val_accuracy: 0.6738\n",
            "Epoch 5/50\n",
            " 13/184 [=>............................] - ETA: 1:26 - loss: 1.0774 - accuracy: 0.6562\n",
            "Epoch 5: saving model to models/cp-0005.ckpt\n",
            " 63/184 [=========>....................] - ETA: 1:05 - loss: 1.0093 - accuracy: 0.6820\n",
            "Epoch 5: saving model to models/cp-0005.ckpt\n",
            "113/184 [=================>............] - ETA: 38s - loss: 0.9713 - accuracy: 0.6939\n",
            "Epoch 5: saving model to models/cp-0005.ckpt\n",
            "163/184 [=========================>....] - ETA: 11s - loss: 0.9526 - accuracy: 0.7049\n",
            "Epoch 5: saving model to models/cp-0005.ckpt\n",
            "184/184 [==============================] - 111s 601ms/step - loss: 0.9428 - accuracy: 0.7086 - val_loss: 0.7957 - val_accuracy: 0.7579\n",
            "Epoch 6/50\n",
            " 29/184 [===>..........................] - ETA: 1:22 - loss: 0.7390 - accuracy: 0.7931\n",
            "Epoch 6: saving model to models/cp-0006.ckpt\n",
            " 79/184 [===========>..................] - ETA: 1:00 - loss: 0.7038 - accuracy: 0.8006\n",
            "Epoch 6: saving model to models/cp-0006.ckpt\n",
            "129/184 [====================>.........] - ETA: 30s - loss: 0.6869 - accuracy: 0.8047\n",
            "Epoch 6: saving model to models/cp-0006.ckpt\n",
            "179/184 [============================>.] - ETA: 2s - loss: 0.6674 - accuracy: 0.8128\n",
            "Epoch 6: saving model to models/cp-0006.ckpt\n",
            "184/184 [==============================] - 112s 609ms/step - loss: 0.6630 - accuracy: 0.8145 - val_loss: 0.5438 - val_accuracy: 0.8439\n",
            "Epoch 7/50\n",
            " 45/184 [======>.......................] - ETA: 1:18 - loss: 0.5172 - accuracy: 0.8694\n",
            "Epoch 7: saving model to models/cp-0007.ckpt\n",
            " 95/184 [==============>...............] - ETA: 49s - loss: 0.5827 - accuracy: 0.8464\n",
            "Epoch 7: saving model to models/cp-0007.ckpt\n",
            "145/184 [======================>.......] - ETA: 21s - loss: 0.5574 - accuracy: 0.8554\n",
            "Epoch 7: saving model to models/cp-0007.ckpt\n",
            "184/184 [==============================] - 113s 613ms/step - loss: 0.5321 - accuracy: 0.8662 - val_loss: 0.3974 - val_accuracy: 0.9153\n",
            "Epoch 8/50\n",
            " 11/184 [>.............................] - ETA: 1:30 - loss: 0.4092 - accuracy: 0.9006\n",
            "Epoch 8: saving model to models/cp-0008.ckpt\n",
            " 61/184 [========>.....................] - ETA: 1:08 - loss: 0.3632 - accuracy: 0.9278\n",
            "Epoch 8: saving model to models/cp-0008.ckpt\n",
            "111/184 [=================>............] - ETA: 40s - loss: 0.3480 - accuracy: 0.9319\n",
            "Epoch 8: saving model to models/cp-0008.ckpt\n",
            "161/184 [=========================>....] - ETA: 13s - loss: 0.3355 - accuracy: 0.9354\n",
            "Epoch 8: saving model to models/cp-0008.ckpt\n",
            "184/184 [==============================] - 114s 619ms/step - loss: 0.3365 - accuracy: 0.9352 - val_loss: 0.3048 - val_accuracy: 0.9570\n",
            "Epoch 9/50\n",
            " 27/184 [===>..........................] - ETA: 1:29 - loss: 0.2913 - accuracy: 0.9572\n",
            "Epoch 9: saving model to models/cp-0009.ckpt\n",
            " 77/184 [===========>..................] - ETA: 1:00 - loss: 0.2700 - accuracy: 0.9619\n",
            "Epoch 9: saving model to models/cp-0009.ckpt\n",
            "127/184 [===================>..........] - ETA: 32s - loss: 0.2518 - accuracy: 0.9670\n",
            "Epoch 9: saving model to models/cp-0009.ckpt\n",
            "177/184 [===========================>..] - ETA: 3s - loss: 0.2371 - accuracy: 0.9714\n",
            "Epoch 9: saving model to models/cp-0009.ckpt\n",
            "184/184 [==============================] - 113s 616ms/step - loss: 0.2363 - accuracy: 0.9712 - val_loss: 0.2289 - val_accuracy: 0.9640\n",
            "Epoch 10/50\n",
            " 43/184 [======>.......................] - ETA: 1:20 - loss: 0.2147 - accuracy: 0.9702\n",
            "Epoch 10: saving model to models/cp-0010.ckpt\n",
            " 93/184 [==============>...............] - ETA: 51s - loss: 0.1973 - accuracy: 0.9768\n",
            "Epoch 10: saving model to models/cp-0010.ckpt\n",
            "143/184 [======================>.......] - ETA: 22s - loss: 0.1879 - accuracy: 0.9784\n",
            "Epoch 10: saving model to models/cp-0010.ckpt\n",
            "184/184 [==============================] - 113s 614ms/step - loss: 0.1813 - accuracy: 0.9803 - val_loss: 0.1570 - val_accuracy: 0.9893\n",
            "Epoch 11/50\n",
            "  9/184 [>.............................] - ETA: 1:27 - loss: 0.1358 - accuracy: 0.9896\n",
            "Epoch 11: saving model to models/cp-0011.ckpt\n",
            " 59/184 [========>.....................] - ETA: 1:07 - loss: 0.1292 - accuracy: 0.9921\n",
            "Epoch 11: saving model to models/cp-0011.ckpt\n",
            "109/184 [================>.............] - ETA: 41s - loss: 0.1211 - accuracy: 0.9943\n",
            "Epoch 11: saving model to models/cp-0011.ckpt\n",
            "159/184 [========================>.....] - ETA: 14s - loss: 0.1214 - accuracy: 0.9943\n",
            "Epoch 11: saving model to models/cp-0011.ckpt\n",
            "184/184 [==============================] - 114s 618ms/step - loss: 0.1184 - accuracy: 0.9947 - val_loss: 0.1192 - val_accuracy: 0.9912\n",
            "Epoch 12/50\n",
            " 25/184 [===>..........................] - ETA: 1:25 - loss: 0.1085 - accuracy: 0.9925\n",
            "Epoch 12: saving model to models/cp-0012.ckpt\n",
            " 75/184 [===========>..................] - ETA: 59s - loss: 0.0995 - accuracy: 0.9937 \n",
            "Epoch 12: saving model to models/cp-0012.ckpt\n",
            "125/184 [===================>..........] - ETA: 32s - loss: 0.1126 - accuracy: 0.9923\n",
            "Epoch 12: saving model to models/cp-0012.ckpt\n",
            "175/184 [===========================>..] - ETA: 4s - loss: 0.1271 - accuracy: 0.9880\n",
            "Epoch 12: saving model to models/cp-0012.ckpt\n",
            "184/184 [==============================] - 112s 606ms/step - loss: 0.1278 - accuracy: 0.9881 - val_loss: 0.1596 - val_accuracy: 0.9709\n",
            "Epoch 13/50\n",
            " 41/184 [=====>........................] - ETA: 1:20 - loss: 0.1110 - accuracy: 0.9947\n",
            "Epoch 13: saving model to models/cp-0013.ckpt\n",
            " 91/184 [=============>................] - ETA: 53s - loss: 0.0912 - accuracy: 0.9973\n",
            "Epoch 13: saving model to models/cp-0013.ckpt\n",
            "141/184 [=====================>........] - ETA: 24s - loss: 0.0828 - accuracy: 0.9978\n",
            "Epoch 13: saving model to models/cp-0013.ckpt\n",
            "184/184 [==============================] - ETA: 0s - loss: 0.0792 - accuracy: 0.9978\n",
            "Reached 99.70% accuracy, so stopping training!!\n",
            "184/184 [==============================] - 115s 625ms/step - loss: 0.0792 - accuracy: 0.9978 - val_loss: 0.0822 - val_accuracy: 0.9937\n"
          ]
        }
      ]
    },
    {
      "cell_type": "markdown",
      "source": [
        "## Evaluating training performances\n",
        "\n",
        "We use the following `evaluate_model_accuracy()` and `evaluate_model_loss()` methods to evaluate model **accuracy** and **loss**. We also plot corresponding figures to visually show the accuracy and loss trends."
      ],
      "metadata": {
        "id": "AiTVkAasPJeK"
      },
      "id": "AiTVkAasPJeK"
    },
    {
      "cell_type": "code",
      "execution_count": 46,
      "id": "9d728e01",
      "metadata": {
        "id": "9d728e01"
      },
      "outputs": [],
      "source": [
        "# *************** Method to evaluate accuracy ************************\n",
        "# ********************************************************************\n",
        "def evaluate_model_accuracy(history):\n",
        "    # Check how accuracy and loss changes over the training epochs\n",
        "\n",
        "    epoch_accuracy = history.history['accuracy']\n",
        "    epoch_val_accuracy = history.history['val_accuracy']\n",
        "\n",
        "    plt.figure(figsize=(6, 4))\n",
        "\n",
        "    plt.subplot(1, 1, 1)\n",
        "    plt.plot(range(0, len(epoch_accuracy)), epoch_accuracy, 'b-', linewidth=1, label='Training Accuracy')\n",
        "    plt.plot(range(0, len(epoch_val_accuracy)), epoch_val_accuracy, 'r-', linewidth=1, label='Validation Accuracy')\n",
        "#     plt.title('a) Training & validation accuracy over epochs', loc='center', pad=20)\n",
        "    plt.xlabel('Epoch', fontsize=12)\n",
        "    plt.ylabel('Accuracy', fontsize=12)\n",
        "    plt.legend(loc='best')\n",
        "\n",
        "    # Enabling both grid lines:\n",
        "    plt.grid(True)\n",
        "    plt.grid(which='major', linestyle='-', linewidth=0.6, alpha=0.5)\n",
        "    plt.grid(which='minor', linestyle=':', linewidth=0.5, alpha=0.9)\n",
        "    plt.minorticks_on()\n",
        "    plt.tick_params(which=\"minor\", bottom=False, left=False)\n",
        "\n",
        "    # plt.savefig(\"latest_result/temp/accuracy_plot.pdf\", bbox_inches='tight')\n",
        "    plt.show()\n",
        "    plt.close()\n",
        "\n",
        "\n",
        "# *********************************** Method to evaluate loss **************************************\n",
        "# ****************************************************************************************************************\n",
        "def evaluate_model_loss(history):\n",
        "    # Check how loss changes over the training epochs\n",
        "    epoch_loss = history.history['loss']\n",
        "    epoch_val_loss = history.history['val_loss']\n",
        "\n",
        "    plt.figure(figsize=(6, 4))\n",
        "    plt.subplot(1, 1, 1)\n",
        "    plt.plot(range(0, len(epoch_loss)), epoch_loss, 'b-', linewidth=1, label='Training Loss')\n",
        "    plt.plot(range(0, len(epoch_val_loss)), epoch_val_loss, 'r-', linewidth=1, label='Validation Loss')\n",
        "#     plt.title('Training & validation loss over epochs', loc='center', pad=20 )\n",
        "    plt.xlabel('Epoch', fontsize=12)\n",
        "    plt.ylabel('Loss', fontsize=12)\n",
        "    plt.legend(loc='best')\n",
        "\n",
        "    # Enabling both grid lines:\n",
        "    plt.grid(True)\n",
        "    plt.grid(which='major', linestyle='-', linewidth=0.6, alpha=0.5)\n",
        "    plt.grid(which='minor', linestyle=':', linewidth=0.5, alpha=0.9)\n",
        "    plt.minorticks_on()\n",
        "    plt.tick_params(which=\"minor\", bottom=False, left=False)\n",
        "\n",
        "    # plt.savefig(\"latest_result/temp/loss_plot.pdf\", bbox_inches='tight')\n",
        "    plt.show()\n",
        "    plt.close()"
      ]
    },
    {
      "cell_type": "markdown",
      "source": [
        "The call to the `evaluate_model_accuracy()` and `evaluate_model_loss()` methods give us the plots to see the model accuracy and loss over 100 epochs."
      ],
      "metadata": {
        "id": "ycRMSmkOQFyP"
      },
      "id": "ycRMSmkOQFyP"
    },
    {
      "cell_type": "code",
      "execution_count": 48,
      "id": "d2eaceaf",
      "metadata": {
        "colab": {
          "base_uri": "https://localhost:8080/",
          "height": 392
        },
        "id": "d2eaceaf",
        "outputId": "64ae3f9f-daa6-4e73-89c2-e77ec6261de2"
      },
      "outputs": [
        {
          "output_type": "display_data",
          "data": {
            "text/plain": [
              "<Figure size 600x400 with 1 Axes>"
            ],
            "image/png": "[encoded data removed]"
          },
          "metadata": {}
        }
      ],
      "source": [
        "# check how accuracy & loss changes over epochs during the training process\n",
        "evaluate_model_accuracy(history)"
      ]
    },
    {
      "cell_type": "code",
      "execution_count": 49,
      "id": "82d1d14b",
      "metadata": {
        "colab": {
          "base_uri": "https://localhost:8080/",
          "height": 392
        },
        "id": "82d1d14b",
        "outputId": "e52162f0-2a51-4dac-8949-46c941bd1991"
      },
      "outputs": [
        {
          "output_type": "display_data",
          "data": {
            "text/plain": [
              "<Figure size 600x400 with 1 Axes>"
            ],
            "image/png": "[encoded data removed]"
          },
          "metadata": {}
        }
      ],
      "source": [
        "evaluate_model_loss(history)"
      ]
    },
    {
      "cell_type": "markdown",
      "source": [
        "## Predicting optimal data sequences\n",
        "\n",
        "As the model is trained, now, we call the `predict_text()` method to generate an optimal data sequence given a seed."
      ],
      "metadata": {
        "id": "DxW0sVP5YYj5"
      },
      "id": "DxW0sVP5YYj5"
    },
    {
      "cell_type": "code",
      "execution_count": 50,
      "id": "2d5c1705",
      "metadata": {
        "colab": {
          "base_uri": "https://localhost:8080/"
        },
        "id": "2d5c1705",
        "outputId": "f028720a-d040-4011-a197-66c89c7ef7ec"
      },
      "outputs": [
        {
          "output_type": "stream",
          "name": "stdout",
          "text": [
            "1/1 [==============================] - 2s 2s/step\n",
            "1/1 [==============================] - 0s 74ms/step\n",
            "1/1 [==============================] - 0s 77ms/step\n",
            "1/1 [==============================] - 0s 68ms/step\n",
            "1/1 [==============================] - 0s 65ms/step\n",
            "1/1 [==============================] - 0s 142ms/step\n",
            "1/1 [==============================] - 0s 144ms/step\n",
            "1/1 [==============================] - 0s 149ms/step\n",
            "1/1 [==============================] - 0s 145ms/step\n",
            "1/1 [==============================] - 0s 158ms/step\n",
            "1/1 [==============================] - 0s 161ms/step\n",
            "1/1 [==============================] - 0s 152ms/step\n",
            "1/1 [==============================] - 0s 143ms/step\n",
            "1/1 [==============================] - 0s 150ms/step\n",
            "1/1 [==============================] - 0s 141ms/step\n",
            "1/1 [==============================] - 0s 150ms/step\n",
            "1/1 [==============================] - 0s 150ms/step\n",
            "1/1 [==============================] - 0s 74ms/step\n",
            "1/1 [==============================] - 0s 74ms/step\n",
            "1/1 [==============================] - 0s 71ms/step\n",
            "1/1 [==============================] - 0s 83ms/step\n",
            "1/1 [==============================] - 0s 79ms/step\n",
            "1/1 [==============================] - 0s 70ms/step\n",
            "1/1 [==============================] - 0s 77ms/step\n",
            "1/1 [==============================] - 0s 73ms/step\n",
            "1/1 [==============================] - 0s 71ms/step\n",
            "1/1 [==============================] - 0s 70ms/step\n",
            "1/1 [==============================] - 0s 67ms/step\n",
            "1/1 [==============================] - 0s 73ms/step\n",
            "1/1 [==============================] - 0s 66ms/step\n",
            "1/1 [==============================] - 0s 66ms/step\n",
            "1/1 [==============================] - 0s 67ms/step\n",
            "1/1 [==============================] - 0s 67ms/step\n",
            "1/1 [==============================] - 0s 79ms/step\n",
            "1/1 [==============================] - 0s 77ms/step\n",
            "1/1 [==============================] - 0s 74ms/step\n",
            "1/1 [==============================] - 0s 96ms/step\n",
            "1/1 [==============================] - 0s 67ms/step\n",
            "1/1 [==============================] - 0s 70ms/step\n",
            "1/1 [==============================] - 0s 81ms/step\n",
            "1/1 [==============================] - 0s 66ms/step\n",
            "1/1 [==============================] - 0s 69ms/step\n",
            "1/1 [==============================] - 0s 69ms/step\n",
            "1/1 [==============================] - 0s 67ms/step\n",
            "1/1 [==============================] - 0s 75ms/step\n",
            "1/1 [==============================] - 0s 72ms/step\n",
            "1/1 [==============================] - 0s 64ms/step\n",
            "1/1 [==============================] - 0s 75ms/step\n",
            "1/1 [==============================] - 0s 66ms/step\n",
            "1/1 [==============================] - 0s 80ms/step\n",
            "1/1 [==============================] - 0s 75ms/step\n",
            "1/1 [==============================] - 0s 75ms/step\n",
            "1/1 [==============================] - 0s 92ms/step\n",
            "1/1 [==============================] - 0s 75ms/step\n",
            "1/1 [==============================] - 0s 71ms/step\n",
            "1/1 [==============================] - 0s 75ms/step\n",
            "1/1 [==============================] - 0s 72ms/step\n",
            "1/1 [==============================] - 0s 65ms/step\n",
            "1/1 [==============================] - 0s 68ms/step\n",
            "1/1 [==============================] - 0s 66ms/step\n",
            "1/1 [==============================] - 0s 74ms/step\n",
            "1/1 [==============================] - 0s 70ms/step\n",
            "1/1 [==============================] - 0s 74ms/step\n",
            "1/1 [==============================] - 0s 71ms/step\n",
            "1/1 [==============================] - 0s 70ms/step\n",
            "1/1 [==============================] - 0s 67ms/step\n",
            "1/1 [==============================] - 0s 64ms/step\n",
            "1/1 [==============================] - 0s 67ms/step\n",
            "1/1 [==============================] - 0s 69ms/step\n",
            "1/1 [==============================] - 0s 70ms/step\n",
            "1/1 [==============================] - 0s 62ms/step\n",
            "1/1 [==============================] - 0s 65ms/step\n",
            "1/1 [==============================] - 0s 74ms/step\n",
            "1/1 [==============================] - 0s 71ms/step\n",
            "1/1 [==============================] - 0s 70ms/step\n",
            "1/1 [==============================] - 0s 82ms/step\n",
            "1/1 [==============================] - 0s 80ms/step\n",
            "1/1 [==============================] - 0s 72ms/step\n",
            "1/1 [==============================] - 0s 79ms/step\n",
            "1/1 [==============================] - 0s 76ms/step\n",
            "1/1 [==============================] - 0s 81ms/step\n",
            "1/1 [==============================] - 0s 72ms/step\n",
            "1/1 [==============================] - 0s 70ms/step\n",
            "1/1 [==============================] - 0s 77ms/step\n",
            "1/1 [==============================] - 0s 69ms/step\n",
            "1/1 [==============================] - 0s 74ms/step\n",
            "1/1 [==============================] - 0s 76ms/step\n",
            "1/1 [==============================] - 0s 71ms/step\n",
            "1/1 [==============================] - 0s 71ms/step\n",
            "1/1 [==============================] - 0s 80ms/step\n",
            "1/1 [==============================] - 0s 73ms/step\n",
            "1/1 [==============================] - 0s 69ms/step\n",
            "1/1 [==============================] - 0s 68ms/step\n",
            "1/1 [==============================] - 0s 64ms/step\n",
            "1/1 [==============================] - 0s 86ms/step\n",
            "1/1 [==============================] - 0s 65ms/step\n",
            "1/1 [==============================] - 0s 80ms/step\n",
            "1/1 [==============================] - 0s 150ms/step\n",
            "1/1 [==============================] - 0s 142ms/step\n",
            "1/1 [==============================] - 0s 130ms/step\n",
            "Sequence generated with duplicate nodes: \n",
            "\n",
            " ['cam_on', 'scron', 'fanoff', 'fanon', 'fanoff', 'scroff', 'camoff', 'fanon', 'fanoff', 'scron', 'fanon', 'scroff', 'fanoff', 'camon', 'pcoff', 'scroff', 'fanon', 'fanoff', 'fanon', 'fanoff', 'camoff', 'fanon', 'fanoff', 'fanon', 'fanoff', 'camon', 'fanon', 'pcon', 'scron', 'fanoff', 'fanon', 'scroff', 'fanoff', 'dooron', 'lighton', 'lightoff', 'dooroff', 'camoff', 'fanon', 'scron', 'fanoff', 'fanon', 'fanoff', 'scroff', 'camon', 'fanon', 'fanoff', 'pcoff', 'scroff', 'radon', 'fanon', 'shddown', 'fanoff', 'radoff', 'camoff', 'fanon', 'fanoff', 'shdup', 'fanon', 'fanoff', 'shddown', 'camon', 'pcon', 'scron', 'fanon', 'fanoff', 'shdup', 'scroff', 'shddown', 'camoff', 'shdup', 'dooron', 'lighton', 'dooroff', 'scron', 'rang', 'dooron', 'dooroff', 'win2on', 'win2off', 'shddown', 'fridgeon', 'fridgeoff', 'scroff', 'shdup', 'camon', 'fanon', 'fanoff', 'dooron', 'dooroff', 'pcoff', 'scroff', 'dooron', 'dooroff', 'dooron', 'dooroff', 'dooron', 'dooroff', 'camoff', 'dooron', 'dooroff']\n",
            "\n",
            "\n",
            "Sequence generated with unique nodes: \n",
            "\n",
            " ['cam_on', 'scron', 'fanoff', 'fanon', 'scroff', 'camoff', 'camon', 'pcoff', 'pcon', 'dooron', 'lighton', 'lightoff', 'dooroff', 'radon', 'shddown', 'radoff', 'shdup', 'rang', 'win2on', 'win2off', 'fridgeon', 'fridgeoff']\n"
          ]
        }
      ],
      "source": [
        "# set the seed and number of words to be generated\n",
        "seed = 'cam_on'\n",
        "next_words = 100\n",
        "\n",
        "sequence_predicted, sequence_predicted_unique = predict_text(seed, tokenizer, model, max_sequence_len, next_words)\n",
        "\n",
        "print('Sequence generated with duplicate nodes: \\n\\n', sequence_predicted)\n",
        "print('\\n\\nSequence generated with unique nodes: \\n\\n', sequence_predicted_unique)"
      ]
    },
    {
      "cell_type": "markdown",
      "source": [
        "## Saving the model\n",
        "\n",
        "Eventually, we save the trained model as a keras file."
      ],
      "metadata": {
        "id": "xND8Ed8caw8p"
      },
      "id": "xND8Ed8caw8p"
    },
    {
      "cell_type": "code",
      "source": [
        "model.save('models/trained_model.keras')"
      ],
      "metadata": {
        "id": "jeqZNq5fbA1i"
      },
      "id": "jeqZNq5fbA1i",
      "execution_count": 51,
      "outputs": []
    }
  ],
  "metadata": {
    "kernelspec": {
      "display_name": "Python 3 (ipykernel)",
      "language": "python",
      "name": "python3"
    },
    "language_info": {
      "codemirror_mode": {
        "name": "ipython",
        "version": 3
      },
      "file_extension": ".py",
      "mimetype": "text/x-python",
      "name": "python",
      "nbconvert_exporter": "python",
      "pygments_lexer": "ipython3",
      "version": "3.8.16"
    },
    "colab": {
      "provenance": [],
      "include_colab_link": true
    }
  },
  "nbformat": 4,
  "nbformat_minor": 5
}